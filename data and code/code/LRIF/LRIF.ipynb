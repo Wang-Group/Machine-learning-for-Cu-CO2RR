{
 "cells": [
  {
   "cell_type": "markdown",
   "metadata": {},
   "source": [
    "# LRIF(Loop Random Intersection Forest) V4.2  "
   ]
  },
  {
   "cell_type": "code",
   "execution_count": null,
   "metadata": {},
   "outputs": [],
   "source": [
    "import time\n",
    "# 参数\n",
    "VERSION = '4.2'\n",
    "X_INPUT_NAME = 'Features_94_343.csv'\n",
    "Y_INPUT_NAME = 'Values_94.csv'\n",
    "TITLE_INPUT_NAME = 'Title_343.csv'\n",
    "RECEIVE_THRESHOLD = 12\n",
    "TREE_NUM = 20000\n",
    "BRANCH_NUM = 3\n",
    "MAX_LEVEL = 10\n",
    "RATIO_1 = 0.90\n",
    "RATIO_2 = 0.20\n",
    "RATIO_3 = 0.20\n",
    "RATIO_4 = 0.80\n",
    "RATIO_5 = 0.00\n",
    "INDEX_FIT = True\n",
    "WEIGHT_WAY = 4\n",
    "SUPTITLE = 'Importance of Features from LRIF V'+VERSION+'\\nDate: '+time.strftime(\"%Y%m%d_%H%M%S\", time.localtime())\n",
    "DIR_NAME = 'LRIF_'+time.strftime(\"%Y%m%d_%H%M%S\", time.localtime())+'--Version '+VERSION+'--'\n",
    "PLOT_NAME = 'LRIF_V'+VERSION+'_'+time.strftime(\"%Y%m%d_%H%M%S\", time.localtime())+'.png'\n",
    "LOG_NAME = 'Log_LRIF_V'+VERSION+'_'+time.strftime(\"%Y%m%d_%H%M%S\", time.localtime())+'.txt'\n",
    "DISPLAY_NUM = 30\n",
    "REMAIN_NUM = 1200"
   ]
  },
  {
   "cell_type": "code",
   "execution_count": null,
   "metadata": {},
   "outputs": [],
   "source": [
    "import numpy as np\n",
    "import matplotlib.pyplot as plt"
   ]
  },
  {
   "cell_type": "code",
   "execution_count": null,
   "metadata": {},
   "outputs": [],
   "source": [
    "X = np.loadtxt(X_INPUT_NAME, delimiter=',').astype(int)\n",
    "y = np.loadtxt(Y_INPUT_NAME).astype(int)\n",
    "title = np.loadtxt(TITLE_INPUT_NAME, dtype=str)\n",
    "print(X.shape, y.shape, title.shape)"
   ]
  },
  {
   "cell_type": "code",
   "execution_count": null,
   "metadata": {},
   "outputs": [],
   "source": [
    "def intersection(x1, x2, index, flag):\n",
    "    global RATIO_1, RATIO_2, RATIO_3, RATIO_4, RATIO_5\n",
    "    new_index = np.zeros((x1.shape[0], ))\n",
    "    for i in range(x1.shape[0]):\n",
    "        if index[i, ] == 1:\n",
    "            if flag:\n",
    "                if x1[i, ] == x2[i, ]:\n",
    "                    if np.random.rand() <= RATIO_1:\n",
    "                        new_index[i, ] = 1\n",
    "                else:\n",
    "                    if x1[i, ] == 1:\n",
    "                        if np.random.rand() <= RATIO_2:\n",
    "                            new_index[i, ] = 1\n",
    "                    else:\n",
    "                        if np.random.rand() <= RATIO_3:\n",
    "                            new_index[i, ] = 1\n",
    "            else:\n",
    "                if x1[i, ] == x2[i, ]:\n",
    "                    if np.random.rand() >= RATIO_4:\n",
    "                        new_index[i, ] = 1\n",
    "                else:\n",
    "                    new_index[i, ] = 1\n",
    "        else:\n",
    "            if flag:\n",
    "                if x2[i, ] == x1[i, ]:\n",
    "                    if np.random.rand() <= RATIO_5:\n",
    "                        new_index[i, ] = 1\n",
    "            else:\n",
    "                if x2[i, ] != x1[i, ]:\n",
    "                    if np.random.rand() <= RATIO_5:\n",
    "                        new_index[i, ] = 1\n",
    "    return new_index"
   ]
  },
  {
   "cell_type": "code",
   "execution_count": null,
   "metadata": {
    "scrolled": true
   },
   "outputs": [],
   "source": [
    "Out = []\n",
    "X_label_1 = X[np.argwhere(y==1).flatten().tolist(), :]\n",
    "X_label_0 = X[np.argwhere(y==0).flatten().tolist(), :]\n",
    "leaf_sum = []\n",
    "level_sum = []\n",
    "for _ in range(TREE_NUM):\n",
    "    leaf_count = 0\n",
    "    none_leaf_count = 0\n",
    "    node_count = 1\n",
    "    X_1 = X_label_1[np.random.randint(0, X_label_1.shape[0]), :]\n",
    "    index_list = []\n",
    "    for level in range(MAX_LEVEL):\n",
    "        next_node_count = 0\n",
    "        if node_count == 0:\n",
    "            print('One tree done! Total leaf:', leaf_count, ',Total none leaf:', none_leaf_count, ',Total level:', level+1, \n",
    "                  '\\nTotal:', _+1, 'tree(s) has(have) finished their mission.\\n')\n",
    "            break\n",
    "        next_index_list = []\n",
    "        if level == 0:\n",
    "            if INDEX_FIT:\n",
    "                index_list.append(X_1)\n",
    "            else:\n",
    "                index_list.append(np.ones((X_1.shape[0], )))\n",
    "        for node in range(node_count):\n",
    "            k = np.random.randint(0, X.shape[0])\n",
    "            X_2 = X[k, :]\n",
    "            f = True if y[k, ] == 1 else False\n",
    "            node_out = intersection(X_1, X_2, index_list[node], f)\n",
    "            if (sum(node_out>0) <= RECEIVE_THRESHOLD):\n",
    "                if sum(node_out) > 0:\n",
    "                    Out.append(node_out)\n",
    "                leaf_count += 1\n",
    "            else:\n",
    "                next_node_count += BRANCH_NUM\n",
    "                none_leaf_count += 1\n",
    "                for i in range(BRANCH_NUM):\n",
    "                    next_index_list.append(node_out)\n",
    "        node_count = next_node_count\n",
    "        index_list = next_index_list\n",
    "    print('One tree done! Total leaf:', leaf_count, ',Total none leaf:', none_leaf_count, ',Total level:', level+1, \n",
    "          '\\nTotal:', _+1, 'tree(s) has(have) finished their mission.\\n')\n",
    "    leaf_sum.append(leaf_count)\n",
    "    level_sum.append(level+1)"
   ]
  },
  {
   "cell_type": "code",
   "execution_count": null,
   "metadata": {
    "scrolled": true
   },
   "outputs": [],
   "source": [
    "print('Total number of effective leaf output:', len(Out))\n",
    "count = np.zeros((X.shape[1], ))\n",
    "for out in Out:\n",
    "    for i in range(len(out)):\n",
    "        if out[i]>0:\n",
    "            count[i, ] += 1.0"
   ]
  },
  {
   "cell_type": "code",
   "execution_count": null,
   "metadata": {},
   "outputs": [],
   "source": [
    "count = count.astype(float)\n",
    "for i in range(count.shape[0]):\n",
    "    if WEIGHT_WAY==0:\n",
    "        temp = 1\n",
    "    elif WEIGHT_WAY==1:\n",
    "        temp = sum(X[:, i])\n",
    "    elif WEIGHT_WAY==2:\n",
    "        if sum(X[:, i])>1:\n",
    "            temp = 0.5*sum(X[:, i])*(sum(X[:, i])-1)\n",
    "        else:\n",
    "            temp = 1\n",
    "    elif WEIGHT_WAY==3:\n",
    "        if sum(X_label_1[:, i])>0:\n",
    "            temp = sum(X[:, i])*sum(X_label_1[:, i])\n",
    "        else:\n",
    "            temp = sum(X[:, i])\n",
    "    elif WEIGHT_WAY == 4:\n",
    "        temp_list = []\n",
    "        temp_list.append((sum(X_label_1[:, i])**2+(X_label_1.shape[0]-sum(X_label_1[:, i]))**2)*RATIO_1)\n",
    "        temp_list.append((X_label_1.shape[0]-sum(X_label_1[:, i]))*sum(X_label_1[:, i])*RATIO_2)\n",
    "        temp_list.append(sum(X_label_1[:, i])*(X_label_1.shape[0]-sum(X_label_1[:, i]))*RATIO_3)\n",
    "        temp_list.append((sum(X_label_1[:, i])**2+(X_label_1.shape[0]-sum(X_label_1[:, i]))**2)*RATIO_5)\n",
    "        temp_list.append((sum(X_label_0[:, i])*sum(X_label_1[:, i])+(X_label_0.shape[0]-sum(X_label_0[:, i]))*(X_label_1.shape[0]-sum(X_label_1[:, i])))*RATIO_4)\n",
    "        temp_list.append(sum(X_label_1[:, i])*(X_label_0.shape[0]-sum(X_label_0[:, i]))+sum(X_label_0[:, i])*(X_label_1.shape[0]-sum(X_label_1[:, i])))\n",
    "        temp_list.append((sum(X_label_0[:, i])*(X_label_1.shape[0]-sum(X_label_1[:, i]))+(X_label_0.shape[0]-sum(X_label_0[:, i]))*sum(X_label_1[:, i]))*RATIO_5)\n",
    "        temp = sum(temp_list)\n",
    "    count[i, ] = count[i, ]*X.shape[0]*X_label_1.shape[0]/temp"
   ]
  },
  {
   "cell_type": "code",
   "execution_count": null,
   "metadata": {},
   "outputs": [],
   "source": [
    "p = np.argsort(-count)\n",
    "score = []\n",
    "score_count = []\n",
    "sum_temp = sum(count)\n",
    "for i in range(len(p)):\n",
    "    score_ratio = 100*count[p[i], ]/sum_temp\n",
    "    score.append(score_ratio)\n",
    "    score_count.append(sum(score))"
   ]
  },
  {
   "cell_type": "code",
   "execution_count": null,
   "metadata": {},
   "outputs": [],
   "source": [
    "import os\n",
    "from pathlib import Path\n",
    "DIR = DIR_NAME\n",
    "os.mkdir(DIR)\n",
    "PLOT_NAME = Path('.', DIR, PLOT_NAME)\n",
    "LOG_NAME = Path('.', DIR, LOG_NAME)"
   ]
  },
  {
   "cell_type": "code",
   "execution_count": null,
   "metadata": {
    "scrolled": false
   },
   "outputs": [],
   "source": [
    "plt.figure(figsize=(22,14), dpi=200)\n",
    "plt.subplot(211)\n",
    "plt.bar(np.linspace(1, len(p), len(p)), count[:, ])\n",
    "plt.title('Appearance score of features', fontsize=17)\n",
    "plt.ylabel('Appearance score of features')\n",
    "plt.xlabel('Index')\n",
    "plt.subplot(212)\n",
    "plt.tick_params(axis='x', labelsize=5)\n",
    "plt.bar(title[p[:DISPLAY_NUM, ], ].flatten().tolist(), count[p[:DISPLAY_NUM, ], ].flatten().tolist())\n",
    "plt.title(str(DISPLAY_NUM)+' Max Coef', fontsize=17)\n",
    "plt.ylabel('Appearance score of features')\n",
    "plt.xlabel('Feature Name')\n",
    "plt.suptitle(SUPTITLE, fontsize=20)\n",
    "plt.savefig(PLOT_NAME, bbox_inches='tight')"
   ]
  },
  {
   "cell_type": "code",
   "execution_count": null,
   "metadata": {},
   "outputs": [],
   "source": [
    "f1 = open(LOG_NAME, 'w+')\n",
    "f1.write('Output of Loop Random Intersection Forest:\\n\\n')\n",
    "f1.write('Data: '+X_INPUT_NAME+'  '+Y_INPUT_NAME+'  '+TITLE_INPUT_NAME+'\\n')\n",
    "f1.write('Data Shape: '+str(X.shape)+', '+str(y.shape)+'\\n\\n')\n",
    "f1.write('Threshold: '+str(RECEIVE_THRESHOLD)+'\\n')\n",
    "f1.write('Tree Num: '+str(TREE_NUM)+'\\n')\n",
    "f1.write('Node Num(new branch, per node): '+str(BRANCH_NUM)+'\\n')\n",
    "f1.write('Max level: '+str(MAX_LEVEL)+'\\n')\n",
    "f1.write('Ratio 1: '+str(RATIO_1)+'\\n')\n",
    "f1.write('Ratio 2: '+str(RATIO_2)+'\\n')\n",
    "f1.write('Ratio 3: '+str(RATIO_3)+'\\n')\n",
    "f1.write('Ratio 4: '+str(RATIO_4)+'\\n')\n",
    "f1.write('Ratio 5: '+str(RATIO_5)+'\\n')\n",
    "if INDEX_FIT:\n",
    "    f1.write('First index input: Same as X_1\\n\\n')\n",
    "else:\n",
    "    f1.write('First index input: All 1\\n\\n')\n",
    "f1.write('Total leaf node: '+str(sum(leaf_sum))+'\\n')\n",
    "f1.write('Average leaf node: '+str(sum(leaf_sum)/TREE_NUM)+' per tree\\n')\n",
    "f1.write('Total level: '+str(sum(level_sum))+'\\n')\n",
    "f1.write('Average level: '+str(sum(level_sum)/TREE_NUM)+' per tree\\n\\n')\n",
    "f1.write('Total number of effective leaf output: '+str(len(Out))+'\\n\\n\\n')\n",
    "f1.write(str(DISPLAY_NUM)+' Maximum Features:\\n')\n",
    "for i in range(DISPLAY_NUM):\n",
    "    f1.write('Name: '+str(title[p[i, ], ])+'   Time-Count-Score: '+str(count[p[i, ], ])+\n",
    "             '   Importance: '+str(score[i])+'%   Sum of Importance: '+str(score_count[i])+'%\\n')"
   ]
  },
  {
   "cell_type": "code",
   "execution_count": null,
   "metadata": {},
   "outputs": [],
   "source": [
    "print('Total number of effective leaf output:', len(Out))\n",
    "set_list = np.unique(Out, axis=0)\n",
    "print(set_list.shape)\n",
    "# for out in Out:\n",
    "#     flag = True\n",
    "#     for s in set_list:\n",
    "#         if out.flatten().tolist() is s:\n",
    "#             flag = False\n",
    "#             break\n",
    "#     if flag:\n",
    "#         set_list.append(out)\n",
    "print('Total number of unique output:', len(set_list))"
   ]
  },
  {
   "cell_type": "code",
   "execution_count": null,
   "metadata": {},
   "outputs": [],
   "source": [
    "pi = sum(y)/X.shape[0]\n",
    "print(pi)\n",
    "def cal_i_score(set_in, x_data, y_data):\n",
    "    global pi\n",
    "    index_temp = np.argwhere(set_in==1).flatten().tolist()\n",
    "    list_temp = []\n",
    "    i_s = 0.0\n",
    "    for i in range(x_data.shape[0]):\n",
    "        flag = True\n",
    "        for f in list_temp:\n",
    "            if x_data[i, index_temp].flatten().tolist() == f.tolist():\n",
    "                flag = False\n",
    "                break\n",
    "        if flag:\n",
    "            list_temp.append(x_data[i, index_temp])\n",
    "    for l in list_temp:\n",
    "        l_count = 0.0\n",
    "        l_1_count = 0.0\n",
    "        for i in range(x_data.shape[0]):\n",
    "            if x_data[i, index_temp].flatten().tolist() == l.tolist():\n",
    "                l_count += 1.0\n",
    "                if y_data[i] == 1:\n",
    "                    l_1_count +=1.0\n",
    "        i_s += (l_1_count-pi*l_count)**2\n",
    "    return i_s"
   ]
  },
  {
   "cell_type": "code",
   "execution_count": null,
   "metadata": {
    "scrolled": true
   },
   "outputs": [],
   "source": [
    "i_score = []\n",
    "for s in set_list:\n",
    "    i_score_temp = cal_i_score(s, X, y)\n",
    "    i_score.append(i_score_temp)\n",
    "y_std = np.var(y)\n",
    "d_temp = y_std*X.shape[0]"
   ]
  },
  {
   "cell_type": "code",
   "execution_count": null,
   "metadata": {},
   "outputs": [],
   "source": [
    "p = np.argsort(-np.array(i_score).reshape(len(i_score), )).flatten().tolist()\n",
    "new_list = []\n",
    "new_score_list = []\n",
    "f1.write('\\n\\n\\nThe most effective '+str(REMAIN_NUM)+' featrue-sets to be put into the next greedy dropping step:\\n\\n')\n",
    "for i in range(REMAIN_NUM):\n",
    "    new_list.append(set_list[p[i]])\n",
    "    new_score_list.append(i_score[p[i]])\n",
    "    f1.write('Feature list: '+str(title[np.argwhere(new_list[i]==1), ].flatten().tolist())+'\\n   I-Score: '+str(new_score_list[i]/d_temp)+'\\n\\n')"
   ]
  },
  {
   "cell_type": "code",
   "execution_count": null,
   "metadata": {},
   "outputs": [],
   "source": [
    "out_list = []\n",
    "out_score = []\n",
    "for i in range(len(new_list)):\n",
    "    l = new_list[i]\n",
    "    old_score = new_score_list[i]\n",
    "    continue_flag = True\n",
    "    while continue_flag:\n",
    "        next_score = []\n",
    "        next_delete = []\n",
    "        filled_pos = np.argwhere(l==1).flatten().tolist()\n",
    "        for p in filled_pos:\n",
    "            next_delete.append(p)\n",
    "            l[p] = 0\n",
    "            next_score.append(cal_i_score(l, X, y))\n",
    "            l[p] = 1\n",
    "        if max(next_score) >= old_score:\n",
    "            l[next_delete[next_score.index(max(next_score))]] = 0\n",
    "            old_score = max(next_score)\n",
    "        else:\n",
    "            continue_flag = False\n",
    "            out_list.append(title[np.argwhere(l==1), ].flatten().tolist())\n",
    "            out_score.append(old_score)\n",
    "p = np.argsort(-np.array(out_score).reshape(len(out_score), ))\n",
    "f1.write('\\n\\n\\nThe most effective featrue-sets after greedy dropping:\\n\\n')\n",
    "old = []\n",
    "for i in p:\n",
    "    if str(out_list[i]) not in old:\n",
    "        f1.write('Feature list: '+str(out_list[i])+'\\n   I-Score: '+str(out_score[i]/d_temp)+'\\n\\n')\n",
    "        old.append(str(out_list[i]))\n",
    "    else:\n",
    "        continue\n",
    "f1.close()"
   ]
  }
 ],
 "metadata": {
  "kernelspec": {
   "display_name": "PythonForDYH",
   "language": "python",
   "name": "dyhpy"
  },
  "language_info": {
   "codemirror_mode": {
    "name": "ipython",
    "version": 3
   },
   "file_extension": ".py",
   "mimetype": "text/x-python",
   "name": "python",
   "nbconvert_exporter": "python",
   "pygments_lexer": "ipython3",
   "version": "3.7.6"
  }
 },
 "nbformat": 4,
 "nbformat_minor": 2
}
